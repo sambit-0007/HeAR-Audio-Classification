{
 "cells": [
  {
   "cell_type": "code",
   "execution_count": 1,
   "id": "16f86325",
   "metadata": {},
   "outputs": [],
   "source": [
    "# app/hear_utils.py\n",
    "\n",
    "import librosa\n",
    "import numpy as np\n",
    "import torch\n",
    "# from audio_utils import preprocess_audio  # From HeAR\n",
    "from python.data_processing.audio_utils import preprocess_audio\n",
    "\n",
    "SAMPLE_RATE = 16000\n",
    "EXPECTED_SAMPLES = SAMPLE_RATE * 2\n",
    "\n",
    "def load_and_prepare_audio(file_path):\n",
    "    audio, sr = librosa.load(file_path, sr=SAMPLE_RATE, mono=True)\n",
    "    if len(audio) < EXPECTED_SAMPLES:\n",
    "        audio = np.pad(audio, (0, EXPECTED_SAMPLES - len(audio)))\n",
    "    else:\n",
    "        audio = audio[:EXPECTED_SAMPLES]\n",
    "    return torch.tensor(audio, dtype=torch.float32).unsqueeze(0)\n",
    "\n",
    "def get_hear_embedding(file_path):\n",
    "    audio_tensor = load_and_prepare_audio(file_path)\n",
    "    embedding = preprocess_audio(audio_tensor)  # [1, 1, 192, 128]\n",
    "    return embedding.flatten().detach().numpy()  # [24576]\n"
   ]
  },
  {
   "cell_type": "code",
   "execution_count": 2,
   "id": "3274bef6",
   "metadata": {},
   "outputs": [],
   "source": [
    "embedding = get_hear_embedding(r\"H:\\hustle\\coding\\Curebay_assignment\\Asthma Detection Dataset Version 2\\asthma\\P1AsthmaIE_1.wav\")\n"
   ]
  },
  {
   "cell_type": "code",
   "execution_count": 3,
   "id": "99ebddb4",
   "metadata": {},
   "outputs": [
    {
     "name": "stdout",
     "output_type": "stream",
     "text": [
      "(24576,)\n"
     ]
    }
   ],
   "source": [
    "# embedding = get_hear_embedding(\"test.wav\")\n",
    "print(embedding.shape)  # (24576,)\n"
   ]
  },
  {
   "cell_type": "code",
   "execution_count": 4,
   "id": "64598cba",
   "metadata": {},
   "outputs": [
    {
     "name": "stdout",
     "output_type": "stream",
     "text": [
      "\n",
      "Classification Report:\n",
      "              precision    recall  f1-score   support\n",
      "\n",
      "   Bronchial       0.50      0.04      0.07        28\n",
      "      asthma       0.75      0.91      0.83        57\n",
      "        copd       0.77      0.80      0.79        82\n",
      "     healthy       0.44      0.36      0.40        22\n",
      "   pneumonia       0.68      0.85      0.75        54\n",
      "\n",
      "    accuracy                           0.71       243\n",
      "   macro avg       0.63      0.59      0.57       243\n",
      "weighted avg       0.68      0.71      0.67       243\n",
      "\n"
     ]
    }
   ],
   "source": [
    "# model/train_model.py\n",
    "\n",
    "import os\n",
    "import numpy as np\n",
    "from sklearn.ensemble import RandomForestClassifier\n",
    "from sklearn.model_selection import train_test_split\n",
    "from sklearn.metrics import classification_report\n",
    "import joblib\n",
    "# from app.hear_utils import get_hear_embedding\n",
    "\n",
    "DATA_DIR = r\"H:\\hustle\\coding\\Curebay_assignment\\Asthma Detection Dataset Version 2\"\n",
    "X, y = [], []\n",
    "\n",
    "for label in os.listdir(DATA_DIR):\n",
    "    folder = os.path.join(DATA_DIR, label)\n",
    "    if os.path.isdir(folder):\n",
    "        for file in os.listdir(folder):\n",
    "            if file.endswith(\".wav\"):\n",
    "                try:\n",
    "                    path = os.path.join(folder, file)\n",
    "                    emb = get_hear_embedding(path)\n",
    "                    X.append(emb)\n",
    "                    y.append(label)\n",
    "                except Exception as e:\n",
    "                    print(f\"Error: {file} - {e}\")\n",
    "\n",
    "X = np.array(X)\n",
    "y = np.array(y)\n",
    "\n",
    "X_train, X_test, y_train, y_test = train_test_split(X, y, test_size=0.2, random_state=42)\n",
    "clf = RandomForestClassifier(n_estimators=100)\n",
    "clf.fit(X_train, y_train)\n",
    "joblib.dump(clf, \"model/classifier.pkl\")\n",
    "\n",
    "print(\"\\nClassification Report:\")\n",
    "print(classification_report(y_test, clf.predict(X_test)))\n"
   ]
  },
  {
   "cell_type": "code",
   "execution_count": null,
   "id": "d703cfa1",
   "metadata": {},
   "outputs": [],
   "source": []
  }
 ],
 "metadata": {
  "kernelspec": {
   "display_name": "autogpt",
   "language": "python",
   "name": "python3"
  },
  "language_info": {
   "codemirror_mode": {
    "name": "ipython",
    "version": 3
   },
   "file_extension": ".py",
   "mimetype": "text/x-python",
   "name": "python",
   "nbconvert_exporter": "python",
   "pygments_lexer": "ipython3",
   "version": "3.11.3"
  }
 },
 "nbformat": 4,
 "nbformat_minor": 5
}
